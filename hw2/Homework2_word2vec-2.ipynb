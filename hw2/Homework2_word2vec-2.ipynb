{
  "nbformat": 4,
  "nbformat_minor": 0,
  "metadata": {
    "colab": {
      "name": "Homework2_word2vec.ipynb",
      "provenance": [],
      "collapsed_sections": [
        "VWC1zt5M2l7P",
        "y7--YX5O2l7V",
        "iDbcS5j52l7i",
        "Cip7yMjE2l7n",
        "gKZk6u9r2l7o"
      ]
    },
    "kernelspec": {
      "display_name": "Python 3",
      "language": "python",
      "name": "python3"
    },
    "language_info": {
      "codemirror_mode": {
        "name": "ipython",
        "version": 3
      },
      "file_extension": ".py",
      "mimetype": "text/x-python",
      "name": "python",
      "nbconvert_exporter": "python",
      "pygments_lexer": "ipython3",
      "version": "3.6.8"
    },
    "accelerator": "GPU"
  },
  "cells": [
    {
      "cell_type": "code",
      "metadata": {
        "id": "ctHtgr-B2l7A"
      },
      "source": [
        "import json\n",
        "import random\n",
        "from tqdm import tqdm\n",
        "import numpy as np\n",
        "import pandas as pd\n",
        "\n",
        "from matplotlib import pyplot as plt\n",
        "from sklearn.decomposition import TruncatedSVD\n",
        "from sklearn.manifold import TSNE\n",
        "from sklearn.metrics import mean_squared_error\n",
        "\n",
        "import torch\n",
        "\n",
        "from pylab import rcParams\n",
        "rcParams['figure.figsize'] = 15, 15"
      ],
      "execution_count": 1,
      "outputs": []
    },
    {
      "cell_type": "markdown",
      "metadata": {
        "id": "qvkxXs1J2l7C"
      },
      "source": [
        "# Что делать?\n",
        "Где есть пометка # CODE писать код\n",
        "\n",
        "[Полезный туториал](http://jalammar.github.io/illustrated-word2vec/)"
      ]
    },
    {
      "cell_type": "markdown",
      "metadata": {
        "id": "QDMtBU942l7E"
      },
      "source": [
        "# Загружаем данные\n",
        "Они уже обработанные и токенизированные. Процесс можно посмотреть в тетрадке 1.1 Processing corpus"
      ]
    },
    {
      "cell_type": "code",
      "metadata": {
        "id": "ZRT6jPy-2l7E"
      },
      "source": [
        "with open('processed_corpus.json', encoding='utf-8') as f:\n",
        "    corpus = json.load(f)"
      ],
      "execution_count": 2,
      "outputs": []
    },
    {
      "cell_type": "code",
      "metadata": {
        "colab": {
          "base_uri": "https://localhost:8080/"
        },
        "id": "yzGY8f8F2l7F",
        "outputId": "54a4ea81-2d90-48f5-9383-26bf12e41d3c"
      },
      "source": [
        "len(corpus)"
      ],
      "execution_count": 3,
      "outputs": [
        {
          "output_type": "execute_result",
          "data": {
            "text/plain": [
              "100000"
            ]
          },
          "metadata": {},
          "execution_count": 3
        }
      ]
    },
    {
      "cell_type": "code",
      "metadata": {
        "colab": {
          "base_uri": "https://localhost:8080/"
        },
        "id": "kivOta8X2l7G",
        "outputId": "fe3b4215-b4c5-4779-ca0c-ef31fc3620f3"
      },
      "source": [
        "for text in corpus[:5]:\n",
        "    print(' '.join(text))"
      ],
      "execution_count": 4,
      "outputs": [
        {
          "output_type": "stream",
          "name": "stdout",
          "text": [
            "второй UNK год окончательно разочаровать решить податься альфабанк\n",
            "вернуть денежный средство лицевой счёт либо зачесть счёт погашение кредит\n",
            "притом ситуация решиться участие течение сутки заявить\n",
            "мой ##число летний жизнь это самый неповоротливый работник банк который видеть\n",
            "везде написать вклад принимать очередь это\n"
          ]
        }
      ]
    },
    {
      "cell_type": "markdown",
      "metadata": {
        "id": "RBEMhkgw2l7H"
      },
      "source": [
        "# CBOW"
      ]
    },
    {
      "cell_type": "code",
      "metadata": {
        "id": "Ov_DDJ_c2l7I"
      },
      "source": [
        "sample_text = corpus[1]"
      ],
      "execution_count": 5,
      "outputs": []
    },
    {
      "cell_type": "code",
      "metadata": {
        "colab": {
          "base_uri": "https://localhost:8080/",
          "height": 37
        },
        "id": "T-76Pa6Z2l7I",
        "outputId": "9f80573c-561f-4be0-9958-e0a54780b2db"
      },
      "source": [
        "' '.join(sample_text)"
      ],
      "execution_count": 6,
      "outputs": [
        {
          "output_type": "execute_result",
          "data": {
            "application/vnd.google.colaboratory.intrinsic+json": {
              "type": "string"
            },
            "text/plain": [
              "'вернуть денежный средство лицевой счёт либо зачесть счёт погашение кредит'"
            ]
          },
          "metadata": {},
          "execution_count": 6
        }
      ]
    },
    {
      "cell_type": "markdown",
      "metadata": {
        "id": "irRRIOh32l7J"
      },
      "source": [
        "# Реализуйте разделение предложения на примеры методом CBOW"
      ]
    },
    {
      "cell_type": "code",
      "metadata": {
        "id": "kjRCtugL2l7K"
      },
      "source": [
        "def cbow_split(tokens, window, pad_token='PAD'):\n",
        "    text = [pad_token] * window + tokens + [pad_token] * window\n",
        "    splits = []\n",
        "    for n in range(0, len(text)-window*2):\n",
        "        left_context = text[n: n+window]\n",
        "        central_word = text[n+window]\n",
        "        right_context = text[n + 1 + window:n + 1 + window * 2]\n",
        "        splits.append((left_context, central_word, right_context))\n",
        "    return splits"
      ],
      "execution_count": 7,
      "outputs": []
    },
    {
      "cell_type": "code",
      "metadata": {
        "id": "CXJmc_Mi2l7K"
      },
      "source": [
        "splits = cbow_split(sample_text, window=2)"
      ],
      "execution_count": 8,
      "outputs": []
    },
    {
      "cell_type": "code",
      "metadata": {
        "colab": {
          "base_uri": "https://localhost:8080/"
        },
        "id": "gbq9mJWm2l7L",
        "outputId": "1dc1fc44-7f8b-443f-8e4e-7fe3d83d1f51"
      },
      "source": [
        "for sample in splits:\n",
        "    print('Левый контекст:', sample[0])\n",
        "    print('Центральное слово:', sample[1])\n",
        "    print('Правый контекст:', sample[2], end='\\n\\n')"
      ],
      "execution_count": 9,
      "outputs": [
        {
          "output_type": "stream",
          "name": "stdout",
          "text": [
            "Левый контекст: ['PAD', 'PAD']\n",
            "Центральное слово: вернуть\n",
            "Правый контекст: ['денежный', 'средство']\n",
            "\n",
            "Левый контекст: ['PAD', 'вернуть']\n",
            "Центральное слово: денежный\n",
            "Правый контекст: ['средство', 'лицевой']\n",
            "\n",
            "Левый контекст: ['вернуть', 'денежный']\n",
            "Центральное слово: средство\n",
            "Правый контекст: ['лицевой', 'счёт']\n",
            "\n",
            "Левый контекст: ['денежный', 'средство']\n",
            "Центральное слово: лицевой\n",
            "Правый контекст: ['счёт', 'либо']\n",
            "\n",
            "Левый контекст: ['средство', 'лицевой']\n",
            "Центральное слово: счёт\n",
            "Правый контекст: ['либо', 'зачесть']\n",
            "\n",
            "Левый контекст: ['лицевой', 'счёт']\n",
            "Центральное слово: либо\n",
            "Правый контекст: ['зачесть', 'счёт']\n",
            "\n",
            "Левый контекст: ['счёт', 'либо']\n",
            "Центральное слово: зачесть\n",
            "Правый контекст: ['счёт', 'погашение']\n",
            "\n",
            "Левый контекст: ['либо', 'зачесть']\n",
            "Центральное слово: счёт\n",
            "Правый контекст: ['погашение', 'кредит']\n",
            "\n",
            "Левый контекст: ['зачесть', 'счёт']\n",
            "Центральное слово: погашение\n",
            "Правый контекст: ['кредит', 'PAD']\n",
            "\n",
            "Левый контекст: ['счёт', 'погашение']\n",
            "Центральное слово: кредит\n",
            "Правый контекст: ['PAD', 'PAD']\n",
            "\n"
          ]
        }
      ]
    },
    {
      "cell_type": "code",
      "metadata": {
        "colab": {
          "base_uri": "https://localhost:8080/"
        },
        "id": "dkYZ6zkH2l7M",
        "outputId": "85f9906d-dc4f-4a7f-f144-ac169c03f3e1"
      },
      "source": [
        "splits"
      ],
      "execution_count": 10,
      "outputs": [
        {
          "output_type": "execute_result",
          "data": {
            "text/plain": [
              "[(['PAD', 'PAD'], 'вернуть', ['денежный', 'средство']),\n",
              " (['PAD', 'вернуть'], 'денежный', ['средство', 'лицевой']),\n",
              " (['вернуть', 'денежный'], 'средство', ['лицевой', 'счёт']),\n",
              " (['денежный', 'средство'], 'лицевой', ['счёт', 'либо']),\n",
              " (['средство', 'лицевой'], 'счёт', ['либо', 'зачесть']),\n",
              " (['лицевой', 'счёт'], 'либо', ['зачесть', 'счёт']),\n",
              " (['счёт', 'либо'], 'зачесть', ['счёт', 'погашение']),\n",
              " (['либо', 'зачесть'], 'счёт', ['погашение', 'кредит']),\n",
              " (['зачесть', 'счёт'], 'погашение', ['кредит', 'PAD']),\n",
              " (['счёт', 'погашение'], 'кредит', ['PAD', 'PAD'])]"
            ]
          },
          "metadata": {},
          "execution_count": 10
        }
      ]
    },
    {
      "cell_type": "markdown",
      "metadata": {
        "id": "vC-aONHQ2l7N"
      },
      "source": [
        "# Expected\n",
        "\n",
        "```python\n",
        "[(['PAD', 'PAD'], 'вопрос', ['почему', 'например']),\n",
        " (['PAD', 'вопрос'], 'почему', ['например', 'китайский']),\n",
        " (['вопрос', 'почему'], 'например', ['китайский', 'японский']),\n",
        " (['почему', 'например'], 'китайский', ['японский', 'UNK']),\n",
        " (['например', 'китайский'], 'японский', ['UNK', 'PAD']),\n",
        " (['китайский', 'японский'], 'UNK', ['PAD', 'PAD'])]\n",
        "```"
      ]
    },
    {
      "cell_type": "code",
      "metadata": {
        "colab": {
          "base_uri": "https://localhost:8080/"
        },
        "id": "BEGbGGOM2l7O",
        "outputId": "f34e2275-dbcc-4e2b-c524-8d7d147f5352"
      },
      "source": [
        "cbow_split(sample_text, window=3)"
      ],
      "execution_count": 11,
      "outputs": [
        {
          "output_type": "execute_result",
          "data": {
            "text/plain": [
              "[(['PAD', 'PAD', 'PAD'], 'вернуть', ['денежный', 'средство', 'лицевой']),\n",
              " (['PAD', 'PAD', 'вернуть'], 'денежный', ['средство', 'лицевой', 'счёт']),\n",
              " (['PAD', 'вернуть', 'денежный'], 'средство', ['лицевой', 'счёт', 'либо']),\n",
              " (['вернуть', 'денежный', 'средство'], 'лицевой', ['счёт', 'либо', 'зачесть']),\n",
              " (['денежный', 'средство', 'лицевой'], 'счёт', ['либо', 'зачесть', 'счёт']),\n",
              " (['средство', 'лицевой', 'счёт'], 'либо', ['зачесть', 'счёт', 'погашение']),\n",
              " (['лицевой', 'счёт', 'либо'], 'зачесть', ['счёт', 'погашение', 'кредит']),\n",
              " (['счёт', 'либо', 'зачесть'], 'счёт', ['погашение', 'кредит', 'PAD']),\n",
              " (['либо', 'зачесть', 'счёт'], 'погашение', ['кредит', 'PAD', 'PAD']),\n",
              " (['зачесть', 'счёт', 'погашение'], 'кредит', ['PAD', 'PAD', 'PAD'])]"
            ]
          },
          "metadata": {},
          "execution_count": 11
        }
      ]
    },
    {
      "cell_type": "markdown",
      "metadata": {
        "id": "VWC1zt5M2l7P"
      },
      "source": [
        "# Expected\n",
        "\n",
        "```python\n",
        "[(['PAD', 'PAD', 'PAD'], 'вопрос', ['почему', 'например', 'китайский']),\n",
        " (['PAD', 'PAD', 'вопрос'], 'почему', ['например', 'китайский', 'японский']),\n",
        " (['PAD', 'вопрос', 'почему'], 'например', ['китайский', 'японский', 'UNK']),\n",
        " (['вопрос', 'почему', 'например'], 'китайский', ['японский', 'UNK', 'PAD']),\n",
        " (['почему', 'например', 'китайский'], 'японский', ['UNK', 'PAD', 'PAD']),\n",
        " (['например', 'китайский', 'японский'], 'UNK', ['PAD', 'PAD', 'PAD'])]\n",
        "```"
      ]
    },
    {
      "cell_type": "markdown",
      "metadata": {
        "id": "59WN0hAG2l7P"
      },
      "source": [
        "# Skipgram"
      ]
    },
    {
      "cell_type": "code",
      "metadata": {
        "colab": {
          "base_uri": "https://localhost:8080/",
          "height": 37
        },
        "id": "qBjPAIkn2l7Q",
        "outputId": "37ab647b-c62f-4334-b0d1-8bb15328b4a6"
      },
      "source": [
        "' '.join(sample_text)"
      ],
      "execution_count": null,
      "outputs": [
        {
          "output_type": "execute_result",
          "data": {
            "application/vnd.google.colaboratory.intrinsic+json": {
              "type": "string"
            },
            "text/plain": [
              "'вернуть денежный средство лицевой счёт либо зачесть счёт погашение кредит'"
            ]
          },
          "metadata": {},
          "execution_count": 19
        }
      ]
    },
    {
      "cell_type": "markdown",
      "metadata": {
        "id": "LJmc1Qpa2l7R"
      },
      "source": [
        "# Реализуйте разделение предложения на примеры методом Skipgram"
      ]
    },
    {
      "cell_type": "code",
      "metadata": {
        "id": "c7pO128R2l7R"
      },
      "source": [
        "def skipgram_split(tokens, window):\n",
        "    splits = []\n",
        "    for n, word in enumerate(tokens):\n",
        "        first = max(n-window, 0)\n",
        "        last = min(n+window+1, len(tokens))\n",
        "        [splits.append((item, word)) for item in tokens[first:n] + tokens[n+1:last]]\n",
        "    return splits"
      ],
      "execution_count": 12,
      "outputs": []
    },
    {
      "cell_type": "code",
      "metadata": {
        "id": "Fgt1iToA2l7S"
      },
      "source": [
        "splits = skipgram_split(sample_text, window=2)"
      ],
      "execution_count": 13,
      "outputs": []
    },
    {
      "cell_type": "code",
      "metadata": {
        "colab": {
          "base_uri": "https://localhost:8080/"
        },
        "id": "2mDcCIFh2l7T",
        "outputId": "9954794c-2b98-414a-9834-1b83f5192924"
      },
      "source": [
        "for sample in splits:\n",
        "    print('Контекст:', sample[0])\n",
        "    print('Центральное слово:', sample[1], end='\\n\\n')"
      ],
      "execution_count": 14,
      "outputs": [
        {
          "output_type": "stream",
          "name": "stdout",
          "text": [
            "Контекст: денежный\n",
            "Центральное слово: вернуть\n",
            "\n",
            "Контекст: средство\n",
            "Центральное слово: вернуть\n",
            "\n",
            "Контекст: вернуть\n",
            "Центральное слово: денежный\n",
            "\n",
            "Контекст: средство\n",
            "Центральное слово: денежный\n",
            "\n",
            "Контекст: лицевой\n",
            "Центральное слово: денежный\n",
            "\n",
            "Контекст: вернуть\n",
            "Центральное слово: средство\n",
            "\n",
            "Контекст: денежный\n",
            "Центральное слово: средство\n",
            "\n",
            "Контекст: лицевой\n",
            "Центральное слово: средство\n",
            "\n",
            "Контекст: счёт\n",
            "Центральное слово: средство\n",
            "\n",
            "Контекст: денежный\n",
            "Центральное слово: лицевой\n",
            "\n",
            "Контекст: средство\n",
            "Центральное слово: лицевой\n",
            "\n",
            "Контекст: счёт\n",
            "Центральное слово: лицевой\n",
            "\n",
            "Контекст: либо\n",
            "Центральное слово: лицевой\n",
            "\n",
            "Контекст: средство\n",
            "Центральное слово: счёт\n",
            "\n",
            "Контекст: лицевой\n",
            "Центральное слово: счёт\n",
            "\n",
            "Контекст: либо\n",
            "Центральное слово: счёт\n",
            "\n",
            "Контекст: зачесть\n",
            "Центральное слово: счёт\n",
            "\n",
            "Контекст: лицевой\n",
            "Центральное слово: либо\n",
            "\n",
            "Контекст: счёт\n",
            "Центральное слово: либо\n",
            "\n",
            "Контекст: зачесть\n",
            "Центральное слово: либо\n",
            "\n",
            "Контекст: счёт\n",
            "Центральное слово: либо\n",
            "\n",
            "Контекст: счёт\n",
            "Центральное слово: зачесть\n",
            "\n",
            "Контекст: либо\n",
            "Центральное слово: зачесть\n",
            "\n",
            "Контекст: счёт\n",
            "Центральное слово: зачесть\n",
            "\n",
            "Контекст: погашение\n",
            "Центральное слово: зачесть\n",
            "\n",
            "Контекст: либо\n",
            "Центральное слово: счёт\n",
            "\n",
            "Контекст: зачесть\n",
            "Центральное слово: счёт\n",
            "\n",
            "Контекст: погашение\n",
            "Центральное слово: счёт\n",
            "\n",
            "Контекст: кредит\n",
            "Центральное слово: счёт\n",
            "\n",
            "Контекст: зачесть\n",
            "Центральное слово: погашение\n",
            "\n",
            "Контекст: счёт\n",
            "Центральное слово: погашение\n",
            "\n",
            "Контекст: кредит\n",
            "Центральное слово: погашение\n",
            "\n",
            "Контекст: счёт\n",
            "Центральное слово: кредит\n",
            "\n",
            "Контекст: погашение\n",
            "Центральное слово: кредит\n",
            "\n"
          ]
        }
      ]
    },
    {
      "cell_type": "code",
      "metadata": {
        "colab": {
          "base_uri": "https://localhost:8080/"
        },
        "id": "vlMv0Wsm2l7U",
        "outputId": "35f4ff68-9693-4365-ee7d-291faf693b56"
      },
      "source": [
        "skipgram_split(sample_text, window=2)"
      ],
      "execution_count": null,
      "outputs": [
        {
          "output_type": "execute_result",
          "data": {
            "text/plain": [
              "[('денежный', 'вернуть'),\n",
              " ('средство', 'вернуть'),\n",
              " ('вернуть', 'денежный'),\n",
              " ('средство', 'денежный'),\n",
              " ('лицевой', 'денежный'),\n",
              " ('вернуть', 'средство'),\n",
              " ('денежный', 'средство'),\n",
              " ('лицевой', 'средство'),\n",
              " ('счёт', 'средство'),\n",
              " ('денежный', 'лицевой'),\n",
              " ('средство', 'лицевой'),\n",
              " ('счёт', 'лицевой'),\n",
              " ('либо', 'лицевой'),\n",
              " ('средство', 'счёт'),\n",
              " ('лицевой', 'счёт'),\n",
              " ('либо', 'счёт'),\n",
              " ('зачесть', 'счёт'),\n",
              " ('лицевой', 'либо'),\n",
              " ('счёт', 'либо'),\n",
              " ('зачесть', 'либо'),\n",
              " ('счёт', 'либо'),\n",
              " ('счёт', 'зачесть'),\n",
              " ('либо', 'зачесть'),\n",
              " ('счёт', 'зачесть'),\n",
              " ('погашение', 'зачесть'),\n",
              " ('либо', 'счёт'),\n",
              " ('зачесть', 'счёт'),\n",
              " ('погашение', 'счёт'),\n",
              " ('кредит', 'счёт'),\n",
              " ('зачесть', 'погашение'),\n",
              " ('счёт', 'погашение'),\n",
              " ('кредит', 'погашение'),\n",
              " ('счёт', 'кредит'),\n",
              " ('погашение', 'кредит')]"
            ]
          },
          "metadata": {},
          "execution_count": 23
        }
      ]
    },
    {
      "cell_type": "markdown",
      "metadata": {
        "id": "y7--YX5O2l7V"
      },
      "source": [
        "# Expected\n",
        "\n",
        "```python\n",
        "[('почему', 'вопрос'),\n",
        " ('например', 'вопрос'),\n",
        " ('вопрос', 'почему'),\n",
        " ('например', 'почему'),\n",
        " ('китайский', 'почему'),\n",
        " ('вопрос', 'например'),\n",
        " ('почему', 'например'),\n",
        " ('китайский', 'например'),\n",
        " ('японский', 'например'),\n",
        " ('почему', 'китайский'),\n",
        " ('например', 'китайский'),\n",
        " ('японский', 'китайский'),\n",
        " ('UNK', 'китайский'),\n",
        " ('например', 'японский'),\n",
        " ('китайский', 'японский'),\n",
        " ('UNK', 'японский'),\n",
        " ('китайский', 'UNK'),\n",
        " ('японский', 'UNK')]\n",
        "```"
      ]
    },
    {
      "cell_type": "code",
      "metadata": {
        "colab": {
          "base_uri": "https://localhost:8080/"
        },
        "id": "mEacw13t2l7W",
        "outputId": "cddfa7b6-db06-480c-e4bd-6fcc74b25fb0"
      },
      "source": [
        "skipgram_split(sample_text, window=3)"
      ],
      "execution_count": null,
      "outputs": [
        {
          "output_type": "execute_result",
          "data": {
            "text/plain": [
              "[('денежный', 'вернуть'),\n",
              " ('средство', 'вернуть'),\n",
              " ('лицевой', 'вернуть'),\n",
              " ('вернуть', 'денежный'),\n",
              " ('средство', 'денежный'),\n",
              " ('лицевой', 'денежный'),\n",
              " ('счёт', 'денежный'),\n",
              " ('вернуть', 'средство'),\n",
              " ('денежный', 'средство'),\n",
              " ('лицевой', 'средство'),\n",
              " ('счёт', 'средство'),\n",
              " ('либо', 'средство'),\n",
              " ('вернуть', 'лицевой'),\n",
              " ('денежный', 'лицевой'),\n",
              " ('средство', 'лицевой'),\n",
              " ('счёт', 'лицевой'),\n",
              " ('либо', 'лицевой'),\n",
              " ('зачесть', 'лицевой'),\n",
              " ('денежный', 'счёт'),\n",
              " ('средство', 'счёт'),\n",
              " ('лицевой', 'счёт'),\n",
              " ('либо', 'счёт'),\n",
              " ('зачесть', 'счёт'),\n",
              " ('счёт', 'счёт'),\n",
              " ('средство', 'либо'),\n",
              " ('лицевой', 'либо'),\n",
              " ('счёт', 'либо'),\n",
              " ('зачесть', 'либо'),\n",
              " ('счёт', 'либо'),\n",
              " ('погашение', 'либо'),\n",
              " ('лицевой', 'зачесть'),\n",
              " ('счёт', 'зачесть'),\n",
              " ('либо', 'зачесть'),\n",
              " ('счёт', 'зачесть'),\n",
              " ('погашение', 'зачесть'),\n",
              " ('кредит', 'зачесть'),\n",
              " ('счёт', 'счёт'),\n",
              " ('либо', 'счёт'),\n",
              " ('зачесть', 'счёт'),\n",
              " ('погашение', 'счёт'),\n",
              " ('кредит', 'счёт'),\n",
              " ('либо', 'погашение'),\n",
              " ('зачесть', 'погашение'),\n",
              " ('счёт', 'погашение'),\n",
              " ('кредит', 'погашение'),\n",
              " ('зачесть', 'кредит'),\n",
              " ('счёт', 'кредит'),\n",
              " ('погашение', 'кредит')]"
            ]
          },
          "metadata": {},
          "execution_count": 24
        }
      ]
    },
    {
      "cell_type": "markdown",
      "metadata": {
        "id": "uoYSpRV_2l7X"
      },
      "source": [
        "# Expected\n",
        "\n",
        "```python\n",
        "[('почему', 'вопрос'),\n",
        " ('например', 'вопрос'),\n",
        " ('китайский', 'вопрос'),\n",
        " ('вопрос', 'почему'),\n",
        " ('например', 'почему'),\n",
        " ('китайский', 'почему'),\n",
        " ('японский', 'почему'),\n",
        " ('вопрос', 'например'),\n",
        " ('почему', 'например'),\n",
        " ('китайский', 'например'),\n",
        " ('японский', 'например'),\n",
        " ('UNK', 'например'),\n",
        " ('вопрос', 'китайский'),\n",
        " ('почему', 'китайский'),\n",
        " ('например', 'китайский'),\n",
        " ('японский', 'китайский'),\n",
        " ('UNK', 'китайский'),\n",
        " ('почему', 'японский'),\n",
        " ('например', 'японский'),\n",
        " ('китайский', 'японский'),\n",
        " ('UNK', 'японский'),\n",
        " ('например', 'UNK'),\n",
        " ('китайский', 'UNK'),\n",
        " ('японский', 'UNK')]\n",
        "```"
      ]
    },
    {
      "cell_type": "code",
      "metadata": {
        "id": "vOyz8d2S2l7Y"
      },
      "source": [
        "word2index = {}\n",
        "\n",
        "for text in corpus:\n",
        "    for token in text:\n",
        "        if token not in word2index:\n",
        "            word2index[token] = len(word2index)"
      ],
      "execution_count": null,
      "outputs": []
    },
    {
      "cell_type": "code",
      "metadata": {
        "colab": {
          "base_uri": "https://localhost:8080/"
        },
        "id": "wd13dM5b2l7Y",
        "outputId": "3a96c1f8-3b3e-4679-8a15-f19a498ec3ca"
      },
      "source": [
        "len(word2index)"
      ],
      "execution_count": null,
      "outputs": [
        {
          "output_type": "execute_result",
          "data": {
            "text/plain": [
              "13076"
            ]
          },
          "metadata": {},
          "execution_count": 90
        }
      ]
    },
    {
      "cell_type": "code",
      "metadata": {
        "colab": {
          "base_uri": "https://localhost:8080/"
        },
        "id": "VNwGLJcB2l7Z",
        "outputId": "a834019e-0cb1-48fb-a88a-d33266c2203d"
      },
      "source": [
        "word2index['UNK']"
      ],
      "execution_count": null,
      "outputs": [
        {
          "output_type": "execute_result",
          "data": {
            "text/plain": [
              "1"
            ]
          },
          "metadata": {},
          "execution_count": 91
        }
      ]
    },
    {
      "cell_type": "code",
      "metadata": {
        "colab": {
          "base_uri": "https://localhost:8080/"
        },
        "id": "ZBwiW_HD2l7Z",
        "outputId": "8106115f-dd6e-4146-a87d-8e3097fe4b95"
      },
      "source": [
        "[word2index[tok] if tok in word2index else word2index['UNK'] for tok in 'мама мыть рама'.split()]"
      ],
      "execution_count": null,
      "outputs": [
        {
          "output_type": "execute_result",
          "data": {
            "text/plain": [
              "[1282, 8436, 1]"
            ]
          },
          "metadata": {},
          "execution_count": 92
        }
      ]
    },
    {
      "cell_type": "markdown",
      "metadata": {
        "id": "iyOdcGIr2l7a"
      },
      "source": [
        "# Torch Dataset\n",
        "В торче есть очень удобная читалка данных"
      ]
    },
    {
      "cell_type": "code",
      "metadata": {
        "id": "TtaOYBrg2l7b"
      },
      "source": [
        "from torch.utils.data import Dataset, DataLoader"
      ],
      "execution_count": 24,
      "outputs": []
    },
    {
      "cell_type": "code",
      "metadata": {
        "id": "7H2lo29K2l7b"
      },
      "source": [
        "# игрушечный датасет\n",
        "# 121535 примера, 4 фичи, 3 класса\n",
        "some_data_x = np.random.rand(121535, 4)\n",
        "some_data_y = np.random.randint(3, size=(121535,))"
      ],
      "execution_count": null,
      "outputs": []
    },
    {
      "cell_type": "code",
      "metadata": {
        "colab": {
          "base_uri": "https://localhost:8080/"
        },
        "id": "w0D4DTar2l7c",
        "outputId": "861ca875-21ab-459f-9c83-289478d1a0a3"
      },
      "source": [
        "# соверешенно игрушечный, просто цифры\n",
        "some_data_x[:10]"
      ],
      "execution_count": null,
      "outputs": [
        {
          "output_type": "execute_result",
          "data": {
            "text/plain": [
              "array([[0.78907909, 0.65190811, 0.71162737, 0.84130834],\n",
              "       [0.86412651, 0.96298059, 0.64841093, 0.1470891 ],\n",
              "       [0.92375133, 0.47815356, 0.73989638, 0.48664741],\n",
              "       [0.79172762, 0.49363707, 0.59124622, 0.0124648 ],\n",
              "       [0.36470509, 0.27030196, 0.67354607, 0.34561858],\n",
              "       [0.8149305 , 0.99176163, 0.81294345, 0.52257032],\n",
              "       [0.70647219, 0.22613147, 0.19448934, 0.73525052],\n",
              "       [0.84662732, 0.84693001, 0.67269005, 0.14555567],\n",
              "       [0.50805686, 0.12869762, 0.5068301 , 0.50687227],\n",
              "       [0.61341282, 0.39318322, 0.75028441, 0.96018635]])"
            ]
          },
          "metadata": {},
          "execution_count": 25
        }
      ]
    },
    {
      "cell_type": "code",
      "metadata": {
        "colab": {
          "base_uri": "https://localhost:8080/"
        },
        "id": "j7uQTUa72l7d",
        "outputId": "1df02be9-9ad9-4048-cf5b-61f9df8a4255"
      },
      "source": [
        "some_data_y"
      ],
      "execution_count": null,
      "outputs": [
        {
          "output_type": "execute_result",
          "data": {
            "text/plain": [
              "array([0, 0, 0, ..., 1, 1, 2])"
            ]
          },
          "metadata": {},
          "execution_count": 26
        }
      ]
    },
    {
      "cell_type": "code",
      "metadata": {
        "id": "MkdMhfbn2l7d"
      },
      "source": [
        "class ToyDataset(Dataset):\n",
        "    \n",
        "    def __init__(self, data_x, data_y):\n",
        "        \n",
        "        super().__init__()\n",
        "        \n",
        "        self.data_x = data_x\n",
        "        self.data_y = data_y\n",
        "        \n",
        "    def __len__(self):\n",
        "        \n",
        "        # Нужно обязательно определить эту функцию\n",
        "        # Должна возвращать размер датасета\n",
        "        \n",
        "        return len(self.data_x)\n",
        "    \n",
        "    def __getitem__(self, idx):\n",
        "        \n",
        "        # Еще нужно определить этот метод\n",
        "        # То есть как мы будем доставать наши данные по индексу\n",
        "        \n",
        "        return self.data_x[idx], self.data_y[idx]"
      ],
      "execution_count": null,
      "outputs": []
    },
    {
      "cell_type": "code",
      "metadata": {
        "id": "GVQtzY_T2l7e"
      },
      "source": [
        "some_dataset = ToyDataset(some_data_x, some_data_y)"
      ],
      "execution_count": null,
      "outputs": []
    },
    {
      "cell_type": "code",
      "metadata": {
        "colab": {
          "base_uri": "https://localhost:8080/"
        },
        "id": "tmpvSbRg2l7f",
        "outputId": "bfff7ad6-ae03-40b7-86aa-843962ec439a"
      },
      "source": [
        "some_dataset[5], some_dataset[467]"
      ],
      "execution_count": null,
      "outputs": [
        {
          "output_type": "execute_result",
          "data": {
            "text/plain": [
              "((array([0.8149305 , 0.99176163, 0.81294345, 0.52257032]), 2),\n",
              " (array([0.55798733, 0.54433921, 0.6324382 , 0.7145575 ]), 2))"
            ]
          },
          "metadata": {},
          "execution_count": 29
        }
      ]
    },
    {
      "cell_type": "code",
      "metadata": {
        "id": "fmup8YRK2l7f"
      },
      "source": [
        "some_loader = DataLoader(some_dataset, batch_size=16, shuffle=True)"
      ],
      "execution_count": null,
      "outputs": []
    },
    {
      "cell_type": "code",
      "metadata": {
        "colab": {
          "base_uri": "https://localhost:8080/"
        },
        "id": "zEezUa7I2l7g",
        "outputId": "d25a4d2c-bd80-48b5-a7dc-f5834b242512"
      },
      "source": [
        "for x, y in some_loader:\n",
        "    break\n",
        "    \n",
        "len(x), x"
      ],
      "execution_count": null,
      "outputs": [
        {
          "output_type": "execute_result",
          "data": {
            "text/plain": [
              "(16, tensor([[0.2879, 0.9267, 0.3005, 0.8825],\n",
              "         [0.5502, 0.1045, 0.8474, 0.2992],\n",
              "         [0.2398, 0.0101, 0.9353, 0.6383],\n",
              "         [0.1332, 0.2144, 0.3282, 0.1891],\n",
              "         [0.3916, 0.1400, 0.3365, 0.7886],\n",
              "         [0.5652, 0.3826, 0.2442, 0.0178],\n",
              "         [0.2913, 0.2127, 0.6695, 0.3769],\n",
              "         [0.6078, 0.3195, 0.3466, 0.1136],\n",
              "         [0.2915, 0.9737, 0.8312, 0.3598],\n",
              "         [0.4812, 0.4900, 0.9811, 0.2894],\n",
              "         [0.7460, 0.9604, 0.7223, 0.3319],\n",
              "         [0.4217, 0.2428, 0.4674, 0.0767],\n",
              "         [0.2987, 0.0523, 0.4824, 0.3177],\n",
              "         [0.2833, 0.5507, 0.5248, 0.6976],\n",
              "         [0.0262, 0.7039, 0.8402, 0.5298],\n",
              "         [0.0554, 0.3442, 0.0259, 0.9067]], dtype=torch.float64))"
            ]
          },
          "metadata": {},
          "execution_count": 31
        }
      ]
    },
    {
      "cell_type": "code",
      "metadata": {
        "colab": {
          "base_uri": "https://localhost:8080/"
        },
        "id": "iqvlL6b82l7g",
        "outputId": "4d3a5bb4-9708-4213-b4ea-11c07e1036b6"
      },
      "source": [
        "for x, y in some_loader:\n",
        "    pass\n",
        "\n",
        "len(x)"
      ],
      "execution_count": null,
      "outputs": [
        {
          "output_type": "execute_result",
          "data": {
            "text/plain": [
              "15"
            ]
          },
          "metadata": {},
          "execution_count": 32
        }
      ]
    },
    {
      "cell_type": "code",
      "metadata": {
        "colab": {
          "base_uri": "https://localhost:8080/"
        },
        "id": "s6pAA1K-2l7h",
        "outputId": "528069f9-91a0-4bd3-b0a5-879985e8f1cc"
      },
      "source": [
        "# почему 13?\n",
        "# потому что количество наших данных нацело не делится на 16\n",
        "# и поэтому последний батч меньше 16-ти\n",
        "len(some_dataset) % 16"
      ],
      "execution_count": null,
      "outputs": [
        {
          "output_type": "execute_result",
          "data": {
            "text/plain": [
              "15"
            ]
          },
          "metadata": {},
          "execution_count": 33
        }
      ]
    },
    {
      "cell_type": "markdown",
      "metadata": {
        "id": "iDbcS5j52l7i"
      },
      "source": [
        "# А зачем?"
      ]
    },
    {
      "cell_type": "code",
      "metadata": {
        "id": "J_ZhX9y-2l7i"
      },
      "source": [
        "class ToyDataset(Dataset):\n",
        "    \n",
        "    def __init__(self, data_x, data_y):\n",
        "        \n",
        "        super().__init__()\n",
        "        \n",
        "        self.data_x = data_x\n",
        "        self.data_y = data_y\n",
        "        \n",
        "    def __len__(self):\n",
        "        \n",
        "        # Нужно обязательно определить эту функцию\n",
        "        # Должна возвращать размер датасета\n",
        "        \n",
        "        return len(self.data_x)\n",
        "    \n",
        "    @staticmethod\n",
        "    def add_pow_features(x, n=2):\n",
        "        \n",
        "        return np.concatenate([x, x ** n]) \n",
        "    \n",
        "    @staticmethod\n",
        "    def add_log_features(x):\n",
        "        \n",
        "        return np.concatenate([x, np.log(x)]) \n",
        "    \n",
        "    def __getitem__(self, idx):\n",
        "        \n",
        "        # Еще нужно определить этот метод\n",
        "        # То есть как мы будем доставать наши данные по индексу\n",
        "        \n",
        "        x = self.data_x[idx]\n",
        "        \n",
        "        # внутри датасета мы можем делать все что угодно с нашими данными\n",
        "        # например выше определим функции, которые добавляют степенные фичи\n",
        "        x = self.add_pow_features(x, n=2)\n",
        "        x = self.add_pow_features(x, n=3)\n",
        "        # и еще возьмем логарифмические фичи\n",
        "        x = self.add_log_features(x)\n",
        "        \n",
        "        y = self.data_y[idx]\n",
        "        \n",
        "        return x, y"
      ],
      "execution_count": null,
      "outputs": []
    },
    {
      "cell_type": "code",
      "metadata": {
        "id": "Ntz8ax8H2l7j"
      },
      "source": [
        "toy_dataset = ToyDataset(some_data_x, some_data_y)"
      ],
      "execution_count": null,
      "outputs": []
    },
    {
      "cell_type": "code",
      "metadata": {
        "id": "JJGJvaFH2l7j"
      },
      "source": [
        "toy_loader = DataLoader(dataset=toy_dataset, batch_size=128)"
      ],
      "execution_count": null,
      "outputs": []
    },
    {
      "cell_type": "code",
      "metadata": {
        "id": "UgLcq4AJ2l7k"
      },
      "source": [
        "for x, y in toy_loader:\n",
        "    break"
      ],
      "execution_count": null,
      "outputs": []
    },
    {
      "cell_type": "code",
      "metadata": {
        "colab": {
          "base_uri": "https://localhost:8080/"
        },
        "id": "MlTIkLYq2l7k",
        "outputId": "360973da-8aa4-425f-afeb-22c682e646ed"
      },
      "source": [
        "x.shape"
      ],
      "execution_count": null,
      "outputs": [
        {
          "output_type": "execute_result",
          "data": {
            "text/plain": [
              "torch.Size([128, 32])"
            ]
          },
          "metadata": {},
          "execution_count": 38
        }
      ]
    },
    {
      "cell_type": "code",
      "metadata": {
        "colab": {
          "base_uri": "https://localhost:8080/"
        },
        "id": "o7F96NZv2l7l",
        "outputId": "aa6cd2c6-e115-4548-a4f1-b4112b99c57b"
      },
      "source": [
        "# заметим, что мы сразу получаем торчовый формат данных\n",
        "x"
      ],
      "execution_count": null,
      "outputs": [
        {
          "output_type": "execute_result",
          "data": {
            "text/plain": [
              "tensor([[  0.7891,   0.6519,   0.7116,  ...,  -2.5671,  -2.0412,  -1.0368],\n",
              "        [  0.8641,   0.9630,   0.6484,  ...,  -0.2263,  -2.5994, -11.5003],\n",
              "        [  0.9238,   0.4782,   0.7399,  ...,  -4.4269,  -1.8075,  -4.3213],\n",
              "        ...,\n",
              "        [  0.8777,   0.2780,   0.8453,  ...,  -7.6811,  -1.0085,  -1.6170],\n",
              "        [  0.4292,   0.7803,   0.8646,  ...,  -1.4886,  -0.8732,  -3.7431],\n",
              "        [  0.0890,   0.5888,   0.8012,  ...,  -3.1783,  -1.3299,  -1.7135]],\n",
              "       dtype=torch.float64)"
            ]
          },
          "metadata": {},
          "execution_count": 39
        }
      ]
    },
    {
      "cell_type": "code",
      "metadata": {
        "colab": {
          "base_uri": "https://localhost:8080/"
        },
        "id": "Yfydzx0s2l7m",
        "outputId": "c00db4a2-2631-44c9-ac52-13c12bbdfc48"
      },
      "source": [
        "y"
      ],
      "execution_count": null,
      "outputs": [
        {
          "output_type": "execute_result",
          "data": {
            "text/plain": [
              "tensor([0, 0, 0, 0, 0, 2, 0, 2, 1, 0, 0, 0, 1, 0, 2, 2, 0, 1, 2, 2, 1, 2, 0, 1,\n",
              "        1, 1, 2, 0, 2, 1, 1, 2, 2, 1, 1, 1, 0, 1, 1, 1, 0, 0, 2, 2, 2, 2, 2, 1,\n",
              "        2, 2, 1, 2, 2, 1, 1, 1, 0, 0, 2, 0, 2, 2, 0, 1, 0, 0, 1, 2, 2, 0, 0, 2,\n",
              "        2, 1, 0, 2, 1, 1, 1, 1, 0, 1, 2, 0, 0, 2, 0, 2, 2, 1, 0, 0, 1, 2, 0, 1,\n",
              "        2, 0, 0, 1, 1, 0, 0, 1, 0, 2, 1, 1, 0, 1, 1, 1, 0, 1, 1, 1, 0, 0, 1, 0,\n",
              "        1, 1, 1, 0, 0, 1, 1, 0])"
            ]
          },
          "metadata": {},
          "execution_count": 40
        }
      ]
    },
    {
      "cell_type": "markdown",
      "metadata": {
        "id": "Cip7yMjE2l7n"
      },
      "source": [
        "# Если вы ничего здесь не понимаете, то вернитесь в конец первой домашки, там все объясняется"
      ]
    },
    {
      "cell_type": "code",
      "metadata": {
        "id": "H8Xe1kR72l7n"
      },
      "source": [
        "model = torch.nn.Sequential(torch.nn.Linear(32, 16),\n",
        "                            torch.nn.ReLU(),\n",
        "                            torch.nn.Linear(16, 8),\n",
        "                            torch.nn.ReLU(),\n",
        "                            torch.nn.Linear(8, 3))\n",
        "\n",
        "criterion = torch.nn.CrossEntropyLoss()"
      ],
      "execution_count": null,
      "outputs": []
    },
    {
      "cell_type": "code",
      "metadata": {
        "colab": {
          "base_uri": "https://localhost:8080/"
        },
        "id": "GRRO7e6o2l7o",
        "outputId": "97fc86ab-9e0f-4253-eba3-3eba1ce0ea4d"
      },
      "source": [
        "with torch.no_grad():\n",
        "\n",
        "    prediction = model(x.float())\n",
        "\n",
        "    loss = criterion(prediction, y)\n",
        "    \n",
        "loss.item()"
      ],
      "execution_count": null,
      "outputs": [
        {
          "output_type": "execute_result",
          "data": {
            "text/plain": [
              "1.1426291465759277"
            ]
          },
          "metadata": {},
          "execution_count": 42
        }
      ]
    },
    {
      "cell_type": "markdown",
      "metadata": {
        "id": "gKZk6u9r2l7o"
      },
      "source": [
        "# Боевые датасеты"
      ]
    },
    {
      "cell_type": "code",
      "metadata": {
        "id": "0glXM0Yb2l7p"
      },
      "source": [
        "class CBOWDataset(Dataset):\n",
        "\n",
        "    def __init__(self,\n",
        "                 corpus,\n",
        "                 word2index,\n",
        "                 window=2,\n",
        "                 unk_token='UNK',\n",
        "                 pad_token='PAD',\n",
        "                 collect_verbose=True):\n",
        "\n",
        "        self.corpus = corpus\n",
        "        self.word2index = word2index\n",
        "        self.index2word = {value: key for key, value in self.word2index.items()}\n",
        "        self.window = window\n",
        "\n",
        "        self.unk_token = unk_token\n",
        "        self.unk_index = self.word2index[self.unk_token]\n",
        "\n",
        "        self.pad_token = pad_token\n",
        "        self.pad_index = len(self.word2index)\n",
        "\n",
        "        self.collect_verbose = collect_verbose\n",
        "\n",
        "        self.data = []\n",
        "\n",
        "        self.collect_data()\n",
        "\n",
        "    def __len__(self):\n",
        "\n",
        "        return len(self.data)\n",
        "\n",
        "    def _split_function(self, tokenized_text):\n",
        "\n",
        "        splits = []\n",
        "\n",
        "        for n in range(len(tokenized_text)):\n",
        "            left_context = tokenized_text[np.maximum(n - self.window, 0):n]\n",
        "            left_context = ([self.pad_index] * (self.window - len(left_context))) + left_context\n",
        "\n",
        "            central_word = tokenized_text[n]\n",
        "\n",
        "            right_context = tokenized_text[n + 1:n + self.window + 1]\n",
        "            right_context = right_context + ([self.pad_index] * (self.window - len(right_context)))\n",
        "\n",
        "            splits.append((left_context + right_context, central_word))\n",
        "\n",
        "        return splits\n",
        "\n",
        "    def indexing(self, tokenized_text):\n",
        "\n",
        "        return [self.word2index[token] if token in self.word2index else self.unk_index for token in tokenized_text]\n",
        "\n",
        "    def collect_data(self):\n",
        "\n",
        "        corpus = tqdm(self.corpus, disable=not self.collect_verbose)\n",
        "\n",
        "        for tokenized_text in corpus:\n",
        "            indexed_text = self.indexing(tokenized_text)\n",
        "            cbow_examples = self._split_function(indexed_text)\n",
        "\n",
        "            self.data.extend(cbow_examples)\n",
        "\n",
        "    def __getitem__(self, idx):\n",
        "\n",
        "        context, central_word = self.data[idx]\n",
        "\n",
        "        context = torch.Tensor(context).long()\n",
        "\n",
        "        return context, central_word"
      ],
      "execution_count": null,
      "outputs": []
    },
    {
      "cell_type": "markdown",
      "metadata": {
        "id": "5wMJEf6f2l7p"
      },
      "source": [
        "# Мы будем учить модель Skipgram\n",
        "Реализуйте читалку данных"
      ]
    },
    {
      "cell_type": "code",
      "metadata": {
        "id": "r8CiVrmU2l7q"
      },
      "source": [
        "class SkipgramDataset(Dataset):\n",
        "\n",
        "    def __init__(self,\n",
        "                 corpus,\n",
        "                 word2index,\n",
        "                 window=2,\n",
        "                 unk_token='UNK',\n",
        "                 collect_verbose=True):\n",
        "        self.corpus = corpus\n",
        "        self.word2index = word2index\n",
        "        self.index2word = {value: key for key, value in self.word2index.items()}\n",
        "        self.window = window\n",
        "        self.unk_token = unk_token\n",
        "        self.unk_index = self.word2index[self.unk_token]\n",
        "        self.collect_verbose = collect_verbose\n",
        "        self.data = []\n",
        "        self.collect_data()\n",
        "\n",
        "\n",
        "    def __len__(self):\n",
        "        return len(self.data)\n",
        "\n",
        "\n",
        "    def _split_function(self, tokenized_text):\n",
        "        splits = []\n",
        "        for n, word in enumerate(tokenized_text):\n",
        "            first = max(n - self.window, 0)\n",
        "            last = min(n + self.window + 1, len(tokenized_text))\n",
        "            [splits.append((item, word)) for item in tokenized_text[first:n] + tokenized_text[n+1:last]]\n",
        "        return splits\n",
        "\n",
        "\n",
        "    def indexing(self, tokenized_text):\n",
        "        return [self.word2index[token] if token in self.word2index else self.unk_index for token in tokenized_text]\n",
        "\n",
        "\n",
        "    def collect_data(self):\n",
        "        corpus = tqdm(self.corpus, disable=not self.collect_verbose)\n",
        "        for tokenized_text in corpus:\n",
        "            indexed_text = self.indexing(tokenized_text)\n",
        "            skipgram_examples = self._split_function(indexed_text)\n",
        "            self.data.extend(skipgram_examples)\n",
        "\n",
        "\n",
        "    def __getitem__(self, idx): \n",
        "        context, central_word = self.data[idx]\n",
        "        #context = torch.Tensor(context).long()\n",
        "        return context, central_word"
      ],
      "execution_count": 25,
      "outputs": []
    },
    {
      "cell_type": "code",
      "metadata": {
        "id": "7hrYE6Fn2l7q"
      },
      "source": [
        "# можете положить SkipgramDataset в отдельный файлик, например word2vec_utils и относительным импортом достать его \n",
        "#from .word2vec_utils import SkipgramDataset"
      ],
      "execution_count": null,
      "outputs": []
    },
    {
      "cell_type": "code",
      "metadata": {
        "id": "LcHNftlf2l7r",
        "scrolled": true,
        "colab": {
          "base_uri": "https://localhost:8080/"
        },
        "outputId": "a3c73906-2d2e-412d-a905-ba070829db2c"
      },
      "source": [
        "dataset = SkipgramDataset(corpus, word2index)"
      ],
      "execution_count": null,
      "outputs": [
        {
          "output_type": "stream",
          "name": "stderr",
          "text": [
            "100%|██████████| 100000/100000 [00:02<00:00, 36005.06it/s]\n"
          ]
        }
      ]
    },
    {
      "cell_type": "code",
      "metadata": {
        "id": "2MdZztQM2l7r"
      },
      "source": [
        "BATCH_SIZE = 512"
      ],
      "execution_count": null,
      "outputs": []
    },
    {
      "cell_type": "code",
      "metadata": {
        "id": "x1bj3UG42l7s"
      },
      "source": [
        "dataset_loader = DataLoader(dataset, shuffle=True, batch_size=BATCH_SIZE)"
      ],
      "execution_count": null,
      "outputs": []
    },
    {
      "cell_type": "code",
      "metadata": {
        "id": "LJ2c6tRX2l7s"
      },
      "source": [
        "for x, y in dataset_loader:\n",
        "    break"
      ],
      "execution_count": null,
      "outputs": []
    },
    {
      "cell_type": "code",
      "metadata": {
        "id": "utCyIp402l7t",
        "colab": {
          "base_uri": "https://localhost:8080/"
        },
        "outputId": "48ca5542-2dec-4b9d-f4ff-f26e75a0e650"
      },
      "source": [
        "x[:5]"
      ],
      "execution_count": null,
      "outputs": [
        {
          "output_type": "execute_result",
          "data": {
            "text/plain": [
              "tensor([1342,   88, 1693,  183,  148])"
            ]
          },
          "metadata": {},
          "execution_count": 25
        }
      ]
    },
    {
      "cell_type": "code",
      "metadata": {
        "id": "0SgPLMj82l7t",
        "colab": {
          "base_uri": "https://localhost:8080/"
        },
        "outputId": "d11d17f4-e23e-431c-c8ba-38ba36464ade"
      },
      "source": [
        "y[:5]"
      ],
      "execution_count": null,
      "outputs": [
        {
          "output_type": "execute_result",
          "data": {
            "text/plain": [
              "tensor([ 138,   51, 1762, 1713,  484])"
            ]
          },
          "metadata": {},
          "execution_count": 26
        }
      ]
    },
    {
      "cell_type": "code",
      "metadata": {
        "id": "QTY04giA2l7u",
        "colab": {
          "base_uri": "https://localhost:8080/"
        },
        "outputId": "eb3d7225-856a-4bf1-81e6-3099e630e0a5"
      },
      "source": [
        "x.shape, y.shape"
      ],
      "execution_count": null,
      "outputs": [
        {
          "output_type": "execute_result",
          "data": {
            "text/plain": [
              "(torch.Size([512]), torch.Size([512]))"
            ]
          },
          "metadata": {},
          "execution_count": 27
        }
      ]
    },
    {
      "cell_type": "code",
      "metadata": {
        "id": "iRZD_8u52l7v"
      },
      "source": [
        "class CBOW(torch.nn.Module):\n",
        "    \n",
        "    def __init__(self, vocab_size, embedding_dim, pad_index):\n",
        "        \n",
        "        super().__init__()\n",
        "        \n",
        "        if pad_index > 0:\n",
        "            vocab_size += 1\n",
        "        \n",
        "        self.in_embedding = torch.nn.Embedding(num_embeddings=vocab_size, \n",
        "                                               embedding_dim=embedding_dim,\n",
        "                                               padding_idx=pad_index)\n",
        "        \n",
        "        self.out_embedding = torch.nn.Linear(in_features=embedding_dim,\n",
        "                                             out_features=vocab_size, bias=False)\n",
        "        \n",
        "    def forward(self, x):\n",
        "        \n",
        "        x = self.in_embedding(x).sum(dim=-2)\n",
        "        x = self.out_embedding(x)\n",
        "        \n",
        "        return x"
      ],
      "execution_count": null,
      "outputs": []
    },
    {
      "cell_type": "markdown",
      "metadata": {
        "id": "Q8eiijHo2l7w"
      },
      "source": [
        "# Мы будем учить модель Skipgram\n",
        "Реализуйте ее"
      ]
    },
    {
      "cell_type": "code",
      "metadata": {
        "id": "Q94bMwOT2l7x"
      },
      "source": [
        "class SkipGram(torch.nn.Module):\n",
        "\n",
        "    def __init__(self, vocab_size, embedding_dim):\n",
        "        \n",
        "        super().__init__()\n",
        "\n",
        "        self.in_embedding = torch.nn.Embedding(num_embeddings=vocab_size, \n",
        "                                               embedding_dim=embedding_dim)\n",
        "        \n",
        "        self.out_embedding = torch.nn.Linear(in_features=embedding_dim,\n",
        "                                             out_features=vocab_size, bias=False)\n",
        "        \n",
        "    def forward(self, x):\n",
        "        \n",
        "        x = self.in_embedding(x)\n",
        "        x = self.out_embedding(x)\n",
        "        \n",
        "        return x"
      ],
      "execution_count": 26,
      "outputs": []
    },
    {
      "cell_type": "code",
      "metadata": {
        "id": "zTcxT6Xj2l7x"
      },
      "source": [
        "#from word2vec_utils import SkipGram"
      ],
      "execution_count": null,
      "outputs": []
    },
    {
      "cell_type": "code",
      "metadata": {
        "id": "xGnrDWLe2l7y"
      },
      "source": [
        "# размерность эмбеддинга\n",
        "# маленькая, чтобы мы могли недолго поучить ворд2век и увидеть результаты\n",
        "EMBEDDING_DIM = 20"
      ],
      "execution_count": null,
      "outputs": []
    },
    {
      "cell_type": "code",
      "metadata": {
        "id": "HrtH5O--2l7y"
      },
      "source": [
        "model = SkipGram(vocab_size=len(word2index), embedding_dim=EMBEDDING_DIM)"
      ],
      "execution_count": null,
      "outputs": []
    },
    {
      "cell_type": "code",
      "metadata": {
        "id": "JJ4guiDs2l7z",
        "colab": {
          "base_uri": "https://localhost:8080/"
        },
        "outputId": "936d7a00-fc00-4042-c3c1-018377d0085f"
      },
      "source": [
        "with torch.no_grad():\n",
        "    pred = model(x)\n",
        "\n",
        "pred.shape"
      ],
      "execution_count": null,
      "outputs": [
        {
          "output_type": "execute_result",
          "data": {
            "text/plain": [
              "torch.Size([512, 13076])"
            ]
          },
          "metadata": {},
          "execution_count": 32
        }
      ]
    },
    {
      "cell_type": "code",
      "metadata": {
        "id": "LFlRU1f02l7z"
      },
      "source": [
        "optimizer = torch.optim.Adam(params=model.parameters(), lr=0.0001)\n",
        "\n",
        "# aka loss function\n",
        "criterion = torch.nn.CrossEntropyLoss()"
      ],
      "execution_count": null,
      "outputs": []
    },
    {
      "cell_type": "markdown",
      "metadata": {
        "id": "-zYK_yLK2l70"
      },
      "source": [
        "# Допишите обучалку"
      ]
    },
    {
      "cell_type": "code",
      "metadata": {
        "id": "nCDHaHcD2l70",
        "colab": {
          "base_uri": "https://localhost:8080/"
        },
        "outputId": "368abe2d-3ca6-4891-ed32-3a0d64f0b333"
      },
      "source": [
        "epochs = 3\n",
        "losses = []\n",
        "for n_epoch in range(epochs):\n",
        "    try:\n",
        "        progress_bar = tqdm(total=len(dataset_loader.dataset), desc='Epoch {}'.format(n_epoch + 1))\n",
        "        for x, y in dataset_loader:\n",
        "            pred = model(x)\n",
        "            loss = criterion(pred, y)\n",
        "            loss.backward()\n",
        "            optimizer.step()\n",
        "            losses.append(loss.item())\n",
        "            progress_bar.set_postfix(loss=np.mean(losses[-100:]))\n",
        "            progress_bar.update(x.shape[0])\n",
        "        progress_bar.close()\n",
        "    except KeyboardInterrupt:\n",
        "        progress_bar.close()\n",
        "        break"
      ],
      "execution_count": null,
      "outputs": [
        {
          "output_type": "stream",
          "name": "stderr",
          "text": [
            "Epoch 1: 100%|██████████| 2983124/2983124 [08:51<00:00, 5610.54it/s, loss=7.37]\n",
            "Epoch 2: 100%|██████████| 2983124/2983124 [08:50<00:00, 5622.40it/s, loss=7.28]\n",
            "Epoch 3: 100%|██████████| 2983124/2983124 [08:51<00:00, 5616.99it/s, loss=7.13]\n"
          ]
        }
      ]
    },
    {
      "cell_type": "code",
      "metadata": {
        "id": "-yhQBhdc2l71",
        "colab": {
          "base_uri": "https://localhost:8080/",
          "height": 910
        },
        "outputId": "417b7d7c-c447-47b7-df1b-9b6c96dc96d0"
      },
      "source": [
        "plt.title('SkipGram Training Process')\n",
        "plt.xlabel('Itearations')\n",
        "plt.ylabel('Loss')\n",
        "plt.grid()\n",
        "plt.plot(losses)"
      ],
      "execution_count": null,
      "outputs": [
        {
          "output_type": "execute_result",
          "data": {
            "text/plain": [
              "[<matplotlib.lines.Line2D at 0x7fea3bd2a890>]"
            ]
          },
          "metadata": {},
          "execution_count": 35
        },
        {
          "output_type": "display_data",
          "data": {
            "image/png": "[encoded data removed]",
            "text/plain": [
              "<Figure size 1080x1080 with 1 Axes>"
            ]
          },
          "metadata": {
            "needs_background": "light"
          }
        }
      ]
    },
    {
      "cell_type": "code",
      "metadata": {
        "id": "wHlj84tM2l72"
      },
      "source": [
        "# проверка, что хоть что-то выучилось\n",
        "assert np.mean(losses[-1000:]) < 7.5"
      ],
      "execution_count": null,
      "outputs": []
    },
    {
      "cell_type": "code",
      "metadata": {
        "id": "Ycjt9xoj2l72"
      },
      "source": [
        "embedding_matrix = model.in_embedding.weight.detach()"
      ],
      "execution_count": null,
      "outputs": []
    },
    {
      "cell_type": "code",
      "metadata": {
        "colab": {
          "base_uri": "https://localhost:8080/"
        },
        "id": "NS71CbdcyOnC",
        "outputId": "269d0a49-64a9-4641-c71d-7075a42dc535"
      },
      "source": [
        "type(embedding_matrix)"
      ],
      "execution_count": null,
      "outputs": [
        {
          "output_type": "execute_result",
          "data": {
            "text/plain": [
              "torch.Tensor"
            ]
          },
          "metadata": {},
          "execution_count": 38
        }
      ]
    },
    {
      "cell_type": "code",
      "metadata": {
        "id": "G5b9y3QVyZvG"
      },
      "source": [
        "torch.save(embedding_matrix, 'embedding_matrix_tensor.pt')"
      ],
      "execution_count": null,
      "outputs": []
    },
    {
      "cell_type": "code",
      "metadata": {
        "id": "b9V5i2UZyh41"
      },
      "source": [
        "embedding_matrix_saved = torch.load('embedding_matrix_tensor.pt')"
      ],
      "execution_count": null,
      "outputs": []
    },
    {
      "cell_type": "code",
      "metadata": {
        "id": "49saHWiZ2l73"
      },
      "source": [
        "def cos_sim(embedding_matrix_saved, token2id, word1, word2):\n",
        "    \n",
        "    i1 = token2id[word1]\n",
        "    i2 = token2id[word2]\n",
        "    \n",
        "    v1, v2 = embedding_matrix_saved[i1], embedding_matrix_saved[i2]\n",
        "    \n",
        "    v1_n = v1.div(v1.norm(keepdim=True))\n",
        "    v2_n = v2.div(v2.norm(keepdim=True))\n",
        "    \n",
        "    similarity = torch.dot(v1_n, v2_n).norm().item()\n",
        "    \n",
        "    return similarity"
      ],
      "execution_count": 27,
      "outputs": []
    },
    {
      "cell_type": "markdown",
      "metadata": {
        "id": "2-_6Z3i82l73"
      },
      "source": [
        "# Косинусная близость\n",
        "От 0 до 1, где 0 - вектора абсолютно разные, где 1 - идентичные."
      ]
    },
    {
      "cell_type": "code",
      "metadata": {
        "id": "zTfQlc_g2l74",
        "colab": {
          "base_uri": "https://localhost:8080/"
        },
        "outputId": "09bcb61f-a965-4cde-a43a-b344f65f1d68"
      },
      "source": [
        "cos_sim(embedding_matrix_saved, word2index, 'день', 'месяц')"
      ],
      "execution_count": null,
      "outputs": [
        {
          "output_type": "execute_result",
          "data": {
            "text/plain": [
              "0.778683066368103"
            ]
          },
          "metadata": {},
          "execution_count": 111
        }
      ]
    },
    {
      "cell_type": "code",
      "metadata": {
        "id": "acFXOO_O2l75",
        "colab": {
          "base_uri": "https://localhost:8080/"
        },
        "outputId": "cf89b55d-e890-49a5-ff5e-e8d9cc88ffa8"
      },
      "source": [
        "cos_sim(embedding_matrix_saved, word2index, 'минута', 'месяц')"
      ],
      "execution_count": null,
      "outputs": [
        {
          "output_type": "execute_result",
          "data": {
            "text/plain": [
              "0.732092022895813"
            ]
          },
          "metadata": {},
          "execution_count": 112
        }
      ]
    },
    {
      "cell_type": "code",
      "metadata": {
        "id": "DGI7E83M2l75",
        "colab": {
          "base_uri": "https://localhost:8080/"
        },
        "outputId": "e9a7e87c-18ba-4a03-ca15-7d6ca604337a"
      },
      "source": [
        "cos_sim(embedding_matrix_saved, word2index, 'сотрудник', 'сотрудница')"
      ],
      "execution_count": null,
      "outputs": [
        {
          "output_type": "execute_result",
          "data": {
            "text/plain": [
              "0.885508120059967"
            ]
          },
          "metadata": {},
          "execution_count": 103
        }
      ]
    },
    {
      "cell_type": "code",
      "metadata": {
        "id": "u7TFrZtI2l76",
        "colab": {
          "base_uri": "https://localhost:8080/"
        },
        "outputId": "8589d5ee-0dd9-4d79-875e-bd2ee185d632"
      },
      "source": [
        "cos_sim(embedding_matrix_saved, word2index, 'вклад', 'перевод')"
      ],
      "execution_count": null,
      "outputs": [
        {
          "output_type": "execute_result",
          "data": {
            "text/plain": [
              "0.3926194906234741"
            ]
          },
          "metadata": {},
          "execution_count": 104
        }
      ]
    },
    {
      "cell_type": "markdown",
      "metadata": {
        "id": "G2b-ynnneu0V"
      },
      "source": [
        "как оказалось, иногда выводятся отрицательные значения для кос. близости. я дописала в ф-цию .norm(), ниже пример того, что у меня давало отрицательное значение"
      ]
    },
    {
      "cell_type": "code",
      "metadata": {
        "colab": {
          "base_uri": "https://localhost:8080/"
        },
        "id": "g8Xgw2l2cE0j",
        "outputId": "a82dff20-9f9b-4641-b31d-ce477945ae5e"
      },
      "source": [
        "cos_sim(embedding_matrix_saved, word2index, 'ложь', 'день')"
      ],
      "execution_count": null,
      "outputs": [
        {
          "output_type": "execute_result",
          "data": {
            "text/plain": [
              "0.09286502003669739"
            ]
          },
          "metadata": {},
          "execution_count": 113
        }
      ]
    },
    {
      "cell_type": "code",
      "metadata": {
        "id": "rH1wxLrI2l76",
        "colab": {
          "base_uri": "https://localhost:8080/",
          "height": 37
        },
        "outputId": "a38cd3b9-1ba6-46af-af6f-7c3d29e302af"
      },
      "source": [
        "random_word = random.choice(list(word2index.keys()))\n",
        "sim = cos_sim(embedding_matrix_saved, word2index, 'день', random_word)\n",
        "'Косинусная близость слова \"день\" к случайному выбраному слову \"{}\" равна {:.3f}'.format(random_word, sim)"
      ],
      "execution_count": null,
      "outputs": [
        {
          "output_type": "execute_result",
          "data": {
            "application/vnd.google.colaboratory.intrinsic+json": {
              "type": "string"
            },
            "text/plain": [
              "'Косинусная близость слова \"день\" к случайному выбраному слову \"полчаса\" равна 0.587'"
            ]
          },
          "metadata": {},
          "execution_count": 27
        }
      ]
    },
    {
      "cell_type": "code",
      "metadata": {
        "id": "YJ0y87OK2l77"
      },
      "source": [
        "freq = {}\n",
        "\n",
        "for text in corpus:\n",
        "    for token in text:\n",
        "        if token in freq:\n",
        "            freq[token] += 1\n",
        "        else:\n",
        "            freq[token] = 1"
      ],
      "execution_count": null,
      "outputs": []
    },
    {
      "cell_type": "code",
      "metadata": {
        "id": "J7neGzlN2l77"
      },
      "source": [
        "sorted_freq = [(k, freq[k]) for k in sorted(freq, key=freq.get, reverse=True)]\n",
        "top_sorted_freq = sorted_freq[0:200]"
      ],
      "execution_count": null,
      "outputs": []
    },
    {
      "cell_type": "code",
      "metadata": {
        "id": "Dgl5GEq42l78",
        "colab": {
          "base_uri": "https://localhost:8080/"
        },
        "outputId": "8a09a620-3967-4cfd-c7b6-740a2d86332c"
      },
      "source": [
        "tsne = TSNE(n_components=2, init='pca', random_state=42, verbose=2)\n",
        "reduced = tsne.fit_transform(embedding_matrix_saved)"
      ],
      "execution_count": null,
      "outputs": [
        {
          "output_type": "stream",
          "name": "stderr",
          "text": [
            "/usr/local/lib/python3.7/dist-packages/sklearn/manifold/_t_sne.py:793: FutureWarning: The default learning rate in TSNE will change from 200.0 to 'auto' in 1.2.\n",
            "  FutureWarning,\n"
          ]
        },
        {
          "output_type": "stream",
          "name": "stdout",
          "text": [
            "[t-SNE] Computing 91 nearest neighbors...\n",
            "[t-SNE] Indexed 13076 samples in 0.001s...\n",
            "[t-SNE] Computed neighbors for 13076 samples in 3.877s...\n",
            "[t-SNE] Computed conditional probabilities for sample 1000 / 13076\n",
            "[t-SNE] Computed conditional probabilities for sample 2000 / 13076\n",
            "[t-SNE] Computed conditional probabilities for sample 3000 / 13076\n",
            "[t-SNE] Computed conditional probabilities for sample 4000 / 13076\n",
            "[t-SNE] Computed conditional probabilities for sample 5000 / 13076\n",
            "[t-SNE] Computed conditional probabilities for sample 6000 / 13076\n",
            "[t-SNE] Computed conditional probabilities for sample 7000 / 13076\n",
            "[t-SNE] Computed conditional probabilities for sample 8000 / 13076\n",
            "[t-SNE] Computed conditional probabilities for sample 9000 / 13076\n",
            "[t-SNE] Computed conditional probabilities for sample 10000 / 13076\n",
            "[t-SNE] Computed conditional probabilities for sample 11000 / 13076\n",
            "[t-SNE] Computed conditional probabilities for sample 12000 / 13076\n",
            "[t-SNE] Computed conditional probabilities for sample 13000 / 13076\n",
            "[t-SNE] Computed conditional probabilities for sample 13076 / 13076\n",
            "[t-SNE] Mean sigma: 1.050762\n",
            "[t-SNE] Computed conditional probabilities in 0.546s\n"
          ]
        },
        {
          "output_type": "stream",
          "name": "stderr",
          "text": [
            "/usr/local/lib/python3.7/dist-packages/sklearn/manifold/_t_sne.py:986: FutureWarning: The PCA initialization in TSNE will change to have the standard deviation of PC1 equal to 1e-4 in 1.2. This will ensure better convergence.\n",
            "  FutureWarning,\n"
          ]
        },
        {
          "output_type": "stream",
          "name": "stdout",
          "text": [
            "[t-SNE] Iteration 50: error = 97.0444107, gradient norm = 0.0000882 (50 iterations in 12.984s)\n",
            "[t-SNE] Iteration 100: error = 97.0570068, gradient norm = 0.0000074 (50 iterations in 5.433s)\n",
            "[t-SNE] Iteration 150: error = 97.0569763, gradient norm = 0.0000129 (50 iterations in 5.433s)\n",
            "[t-SNE] Iteration 200: error = 97.0569992, gradient norm = 0.0000164 (50 iterations in 5.304s)\n",
            "[t-SNE] Iteration 250: error = 97.0569992, gradient norm = 0.0000079 (50 iterations in 5.209s)\n",
            "[t-SNE] KL divergence after 250 iterations with early exaggeration: 97.056999\n",
            "[t-SNE] Iteration 300: error = 4.7605743, gradient norm = 0.0014883 (50 iterations in 6.488s)\n",
            "[t-SNE] Iteration 350: error = 4.2233534, gradient norm = 0.0005634 (50 iterations in 8.576s)\n",
            "[t-SNE] Iteration 400: error = 4.0955820, gradient norm = 0.0003128 (50 iterations in 7.087s)\n",
            "[t-SNE] Iteration 450: error = 4.0152473, gradient norm = 0.0002100 (50 iterations in 6.889s)\n",
            "[t-SNE] Iteration 500: error = 3.9587333, gradient norm = 0.0001618 (50 iterations in 6.748s)\n",
            "[t-SNE] Iteration 550: error = 3.9146552, gradient norm = 0.0001298 (50 iterations in 6.723s)\n",
            "[t-SNE] Iteration 600: error = 3.8796396, gradient norm = 0.0001081 (50 iterations in 6.790s)\n",
            "[t-SNE] Iteration 650: error = 3.8508019, gradient norm = 0.0000900 (50 iterations in 6.731s)\n",
            "[t-SNE] Iteration 700: error = 3.8266125, gradient norm = 0.0000769 (50 iterations in 6.723s)\n",
            "[t-SNE] Iteration 750: error = 3.8058407, gradient norm = 0.0000674 (50 iterations in 6.834s)\n",
            "[t-SNE] Iteration 800: error = 3.7881527, gradient norm = 0.0000587 (50 iterations in 6.761s)\n",
            "[t-SNE] Iteration 850: error = 3.7729945, gradient norm = 0.0000538 (50 iterations in 6.818s)\n",
            "[t-SNE] Iteration 900: error = 3.7599454, gradient norm = 0.0000481 (50 iterations in 6.769s)\n",
            "[t-SNE] Iteration 950: error = 3.7486322, gradient norm = 0.0000439 (50 iterations in 6.638s)\n",
            "[t-SNE] Iteration 1000: error = 3.7386909, gradient norm = 0.0000409 (50 iterations in 6.604s)\n",
            "[t-SNE] KL divergence after 1000 iterations: 3.738691\n"
          ]
        }
      ]
    },
    {
      "cell_type": "code",
      "metadata": {
        "id": "owgaM_Yu2l79"
      },
      "source": [
        "top_words = [a for a,_ in top_sorted_freq]"
      ],
      "execution_count": null,
      "outputs": []
    },
    {
      "cell_type": "code",
      "metadata": {
        "id": "E3VNOhdZ2l79"
      },
      "source": [
        "inds = [word2index[word] for word in top_words]\n",
        "x_coords = [coords[0] for coords in reduced[inds]]\n",
        "y_coords = [coords[1] for coords in reduced[inds]]"
      ],
      "execution_count": null,
      "outputs": []
    },
    {
      "cell_type": "code",
      "metadata": {
        "id": "M4yxkE1k2l7-",
        "colab": {
          "base_uri": "https://localhost:8080/",
          "height": 863
        },
        "outputId": "bb9b0801-5599-4de8-91bc-5e3ed1dc8f86"
      },
      "source": [
        "for (x, y, word) in zip(x_coords, y_coords, top_words):\n",
        "    plt.scatter(x, y, marker='.', color='blue')\n",
        "    plt.text(x+0.01, y+0.01, word, fontsize=9)\n",
        "plt.show()"
      ],
      "execution_count": null,
      "outputs": [
        {
          "output_type": "display_data",
          "data": {
            "image/png": "[encoded data removed]",
            "text/plain": [
              "<Figure size 1080x1080 with 1 Axes>"
            ]
          },
          "metadata": {
            "needs_background": "light"
          }
        }
      ]
    },
    {
      "cell_type": "markdown",
      "metadata": {
        "id": "n4BM8Y88Rc2Q"
      },
      "source": [
        "## Оценка качества эмбеддингов"
      ]
    },
    {
      "cell_type": "code",
      "metadata": {
        "colab": {
          "base_uri": "https://localhost:8080/",
          "height": 204
        },
        "id": "fWyDy4NIRkId",
        "outputId": "de6c8ab0-4368-48d6-f050-b5ae153d4226"
      },
      "source": [
        "gold_df = pd.read_csv('ru_simlex965_tagged.tsv', delimiter='\\t')\n",
        "gold_df['# Word1'] = [items[0] for items in gold_df['# Word1'].str.split('_')]\n",
        "gold_df['Word2'] = [items[0] for items in gold_df['Word2'].str.split('_')]\n",
        "gold_df['Average Score'] = (gold_df['Average Score']-gold_df['Average Score'].min())/ \\\n",
        "(gold_df['Average Score'].max()-gold_df['Average Score'].min())\n",
        "gold_df[:5]"
      ],
      "execution_count": 44,
      "outputs": [
        {
          "output_type": "execute_result",
          "data": {
            "text/html": [
              "<div>\n",
              "<style scoped>\n",
              "    .dataframe tbody tr th:only-of-type {\n",
              "        vertical-align: middle;\n",
              "    }\n",
              "\n",
              "    .dataframe tbody tr th {\n",
              "        vertical-align: top;\n",
              "    }\n",
              "\n",
              "    .dataframe thead th {\n",
              "        text-align: right;\n",
              "    }\n",
              "</style>\n",
              "<table border=\"1\" class=\"dataframe\">\n",
              "  <thead>\n",
              "    <tr style=\"text-align: right;\">\n",
              "      <th></th>\n",
              "      <th># Word1</th>\n",
              "      <th>Word2</th>\n",
              "      <th>Average Score</th>\n",
              "    </tr>\n",
              "  </thead>\n",
              "  <tbody>\n",
              "    <tr>\n",
              "      <th>0</th>\n",
              "      <td>авария</td>\n",
              "      <td>бедствие</td>\n",
              "      <td>0.615</td>\n",
              "    </tr>\n",
              "    <tr>\n",
              "      <th>1</th>\n",
              "      <td>август</td>\n",
              "      <td>месяц</td>\n",
              "      <td>0.285</td>\n",
              "    </tr>\n",
              "    <tr>\n",
              "      <th>2</th>\n",
              "      <td>авиация</td>\n",
              "      <td>полет</td>\n",
              "      <td>0.677</td>\n",
              "    </tr>\n",
              "    <tr>\n",
              "      <th>3</th>\n",
              "      <td>автомобиль</td>\n",
              "      <td>гудок</td>\n",
              "      <td>0.185</td>\n",
              "    </tr>\n",
              "    <tr>\n",
              "      <th>4</th>\n",
              "      <td>автомобиль</td>\n",
              "      <td>автострада</td>\n",
              "      <td>0.123</td>\n",
              "    </tr>\n",
              "  </tbody>\n",
              "</table>\n",
              "</div>"
            ],
            "text/plain": [
              "      # Word1       Word2  Average Score\n",
              "0      авария    бедствие          0.615\n",
              "1      август       месяц          0.285\n",
              "2     авиация       полет          0.677\n",
              "3  автомобиль       гудок          0.185\n",
              "4  автомобиль  автострада          0.123"
            ]
          },
          "metadata": {},
          "execution_count": 44
        }
      ]
    },
    {
      "cell_type": "code",
      "metadata": {
        "id": "S2CzTXprYDHL"
      },
      "source": [
        "def get_scores(embedding_matrix_saved, word2index):\n",
        "  sim_scores = []\n",
        "  words = list(word2index.keys())\n",
        "  for i in range(0, len(gold_df)):\n",
        "      if gold_df['# Word1'][i] in words and gold_df['Word2'][i] in words:\n",
        "        sim_scores.append(cos_sim(embedding_matrix_saved, word2index, \n",
        "                            gold_df['# Word1'][i],gold_df['Word2'][i]))\n",
        "      else:\n",
        "        sim_scores.append(None)\n",
        "  return np.array(sim_scores)"
      ],
      "execution_count": 45,
      "outputs": []
    },
    {
      "cell_type": "code",
      "metadata": {
        "id": "AIl5M_R4fong"
      },
      "source": [
        "y_true = np.array(gold_df['Average Score'].tolist())\n",
        "y_pred = get_scores(embedding_matrix_saved, word2index)\n",
        "y_true = np.delete(y_true, np.where(y_pred == None)[0])\n",
        "y_pred = np.delete(y_pred, np.where(y_pred == None)[0])"
      ],
      "execution_count": null,
      "outputs": []
    },
    {
      "cell_type": "code",
      "metadata": {
        "colab": {
          "base_uri": "https://localhost:8080/"
        },
        "id": "Bwo9HQiogyhl",
        "outputId": "264e9833-b320-4788-9924-cf4446b5a176"
      },
      "source": [
        "mean_squared_error(y_true,y_pred)"
      ],
      "execution_count": null,
      "outputs": [
        {
          "output_type": "execute_result",
          "data": {
            "text/plain": [
              "0.12105614482019786"
            ]
          },
          "metadata": {},
          "execution_count": 121
        }
      ]
    },
    {
      "cell_type": "markdown",
      "metadata": {
        "id": "1zNgPIKg9A_2"
      },
      "source": [
        "## Новый корпус"
      ]
    },
    {
      "cell_type": "code",
      "metadata": {
        "id": "od90z-Zx9ENE"
      },
      "source": [
        "with open('processed_corpus_new.json', encoding='utf-8') as f:\n",
        "    corpus_2 = json.load(f)"
      ],
      "execution_count": 65,
      "outputs": []
    },
    {
      "cell_type": "code",
      "metadata": {
        "colab": {
          "base_uri": "https://localhost:8080/"
        },
        "id": "ioGcLDiG9F5q",
        "outputId": "d654d03b-9bcc-431b-f52c-335ccaf44fbe"
      },
      "source": [
        "len(corpus_2)"
      ],
      "execution_count": 66,
      "outputs": [
        {
          "output_type": "execute_result",
          "data": {
            "text/plain": [
              "100000"
            ]
          },
          "metadata": {},
          "execution_count": 66
        }
      ]
    },
    {
      "cell_type": "code",
      "metadata": {
        "id": "9CdR2YL49HnW"
      },
      "source": [
        "word2index_2 = {}\n",
        "\n",
        "for text in corpus_2:\n",
        "    for token in text:\n",
        "        if token not in word2index_2:\n",
        "            word2index_2[token] = len(word2index_2)"
      ],
      "execution_count": 67,
      "outputs": []
    },
    {
      "cell_type": "code",
      "metadata": {
        "colab": {
          "base_uri": "https://localhost:8080/"
        },
        "id": "YrV1If4b9ncg",
        "outputId": "279a9a35-08bf-40cd-fac8-584a2469b191"
      },
      "source": [
        "len(word2index_2)"
      ],
      "execution_count": 68,
      "outputs": [
        {
          "output_type": "execute_result",
          "data": {
            "text/plain": [
              "14310"
            ]
          },
          "metadata": {},
          "execution_count": 68
        }
      ]
    },
    {
      "cell_type": "code",
      "metadata": {
        "colab": {
          "base_uri": "https://localhost:8080/"
        },
        "id": "48qvrM7M90t2",
        "outputId": "6b57230a-56ce-46d5-d72e-285a47f6d02a"
      },
      "source": [
        "word2index_2['UNK']"
      ],
      "execution_count": 69,
      "outputs": [
        {
          "output_type": "execute_result",
          "data": {
            "text/plain": [
              "4"
            ]
          },
          "metadata": {},
          "execution_count": 69
        }
      ]
    },
    {
      "cell_type": "code",
      "metadata": {
        "colab": {
          "base_uri": "https://localhost:8080/"
        },
        "id": "WX3wbtrO9pez",
        "outputId": "d5fd9fac-4d31-401a-b055-78909b97bba1"
      },
      "source": [
        "[word2index_2[tok] if tok in word2index_2 else word2index_2['UNK'] for tok in 'мама мыть рама'.split()]"
      ],
      "execution_count": 71,
      "outputs": [
        {
          "output_type": "execute_result",
          "data": {
            "text/plain": [
              "[1612, 10622, 4]"
            ]
          },
          "metadata": {},
          "execution_count": 71
        }
      ]
    },
    {
      "cell_type": "code",
      "metadata": {
        "colab": {
          "base_uri": "https://localhost:8080/"
        },
        "id": "8bg080rL_lL7",
        "outputId": "4d78c930-0e45-487b-d71e-86715304e566"
      },
      "source": [
        "dataset_2 = SkipgramDataset(corpus_2, word2index_2, window=4)"
      ],
      "execution_count": 72,
      "outputs": [
        {
          "output_type": "stream",
          "name": "stderr",
          "text": [
            "100%|██████████| 100000/100000 [00:03<00:00, 30457.39it/s]\n"
          ]
        }
      ]
    },
    {
      "cell_type": "code",
      "metadata": {
        "id": "39JNHA_t_11N"
      },
      "source": [
        "BATCH_SIZE = 512\n",
        "dataset_loader = DataLoader(dataset_2, shuffle=True, batch_size=BATCH_SIZE)"
      ],
      "execution_count": 73,
      "outputs": []
    },
    {
      "cell_type": "code",
      "metadata": {
        "id": "piMLBWk3_9-p"
      },
      "source": [
        "for x, y in dataset_loader:\n",
        "    break"
      ],
      "execution_count": 77,
      "outputs": []
    },
    {
      "cell_type": "code",
      "metadata": {
        "colab": {
          "base_uri": "https://localhost:8080/"
        },
        "id": "hSP2Pa10-K31",
        "outputId": "ef6cd7a4-05ce-42ec-dccc-2df5bed2e2a7"
      },
      "source": [
        "x.shape, y.shape"
      ],
      "execution_count": 78,
      "outputs": [
        {
          "output_type": "execute_result",
          "data": {
            "text/plain": [
              "(torch.Size([512]), torch.Size([512]))"
            ]
          },
          "metadata": {},
          "execution_count": 78
        }
      ]
    },
    {
      "cell_type": "code",
      "metadata": {
        "colab": {
          "base_uri": "https://localhost:8080/"
        },
        "id": "uy7lLHX0-ue4",
        "outputId": "e5ebaced-95e6-49a8-9808-265de4a65903"
      },
      "source": [
        "EMBEDDING_DIM = 30\n",
        "model_2 = SkipGram(vocab_size=len(word2index_2), embedding_dim=EMBEDDING_DIM)\n",
        "with torch.no_grad():\n",
        "    pred = model_2(x)\n",
        "pred.shape"
      ],
      "execution_count": 79,
      "outputs": [
        {
          "output_type": "execute_result",
          "data": {
            "text/plain": [
              "torch.Size([512, 14310])"
            ]
          },
          "metadata": {},
          "execution_count": 79
        }
      ]
    },
    {
      "cell_type": "code",
      "metadata": {
        "id": "51_ZpqO-_A4v"
      },
      "source": [
        "optimizer = torch.optim.Adam(params=model_2.parameters(), lr=0.0001)\n",
        "# aka loss function\n",
        "criterion = torch.nn.CrossEntropyLoss()"
      ],
      "execution_count": 82,
      "outputs": []
    },
    {
      "cell_type": "code",
      "metadata": {
        "colab": {
          "base_uri": "https://localhost:8080/"
        },
        "id": "F68VGEHyACQV",
        "outputId": "10ff97cc-790d-4f6b-d2f4-237a72cfce30"
      },
      "source": [
        "epochs = 3\n",
        "losses = []\n",
        "for n_epoch in range(epochs):\n",
        "    try:\n",
        "        progress_bar = tqdm(total=len(dataset_loader.dataset), desc='Epoch {}'.format(n_epoch + 1))\n",
        "        for x, y in dataset_loader:\n",
        "            pred = model_2(x)\n",
        "            loss = criterion(pred, y)\n",
        "            loss.backward()\n",
        "            optimizer.step()\n",
        "            losses.append(loss.item())\n",
        "            progress_bar.set_postfix(loss=np.mean(losses[-100:]))\n",
        "            progress_bar.update(x.shape[0])\n",
        "        progress_bar.close()\n",
        "    except KeyboardInterrupt:\n",
        "        progress_bar.close()\n",
        "        break"
      ],
      "execution_count": 83,
      "outputs": [
        {
          "output_type": "stream",
          "name": "stderr",
          "text": [
            "Epoch 1: 100%|██████████| 5178840/5178840 [15:31<00:00, 5557.64it/s, loss=7.42]\n",
            "Epoch 2: 100%|██████████| 5178840/5178840 [16:15<00:00, 5308.29it/s, loss=7.23]\n",
            "Epoch 3: 100%|██████████| 5178840/5178840 [19:01<00:00, 4538.35it/s, loss=7.28]\n"
          ]
        }
      ]
    },
    {
      "cell_type": "code",
      "metadata": {
        "id": "qXvf8K_sANaM"
      },
      "source": [
        "embedding_matrix_new = model_2.in_embedding.weight.detach()"
      ],
      "execution_count": 84,
      "outputs": []
    },
    {
      "cell_type": "code",
      "metadata": {
        "id": "i3qXtwOlAdKh"
      },
      "source": [
        "y_true_2 = np.array(gold_df['Average Score'].tolist())\n",
        "y_pred_2 = get_scores(embedding_matrix_new, word2index_2)\n",
        "y_true_2 = np.delete(y_true_2, np.where(y_pred_2 == None)[0])\n",
        "y_pred_2 = np.delete(y_pred_2, np.where(y_pred_2 == None)[0])"
      ],
      "execution_count": 85,
      "outputs": []
    },
    {
      "cell_type": "code",
      "metadata": {
        "colab": {
          "base_uri": "https://localhost:8080/"
        },
        "id": "bpiYXpZFqRx_",
        "outputId": "65296cec-16cb-42ab-d350-950a76647566"
      },
      "source": [
        "mean_squared_error(y_true_2,y_pred_2)"
      ],
      "execution_count": 86,
      "outputs": [
        {
          "output_type": "execute_result",
          "data": {
            "text/plain": [
              "0.11808235127324232"
            ]
          },
          "metadata": {},
          "execution_count": 86
        }
      ]
    },
    {
      "cell_type": "markdown",
      "metadata": {
        "collapsed": false,
        "id": "s8nTgnzO2l7_"
      },
      "source": [
        "# Оценка\n",
        "1. Вы добрались сюда и все работает, значит уже получили 7 баллов.\n",
        "2. 8 баллов - Взяли корпус для оценка качества эмбеддингов [здесь](https://rusvectores.org/static/testsets/ru_simlex965_tagged.tsv). Описание к нему [здесь](https://arxiv.org/pdf/1801.06407.pdf). Его английская версия для понимания, того что же это такое [тут](https://fh295.github.io/simlex.html). Если в кратце - он похож а гугл аналогии, просто иначе составлен. Определили качество своих эмбеддингов. Как качество измерить? Можете все значения отнормировать (привести к 1) и затем считать MSE между тем что у вас и что в оригинале.\n",
        "3. 9 баллов - Поставили эксперименты, поменяли любые параметры, хоть корпус увеличили или как то почистили. Показали метрики до и после. После должно быть лучше, иначе это все еще 8 баллов.\n",
        "4. 10 баллов - удивили своим подходом (или просто удивили) пока делили на 9 баллов"
      ]
    },
    {
      "cell_type": "code",
      "metadata": {
        "id": "0-j02Mw92l7_"
      },
      "source": [
        ""
      ],
      "execution_count": null,
      "outputs": []
    }
  ]
}